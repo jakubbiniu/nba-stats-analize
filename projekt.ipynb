{
 "cells": [
  {
   "attachments": {},
   "cell_type": "markdown",
   "metadata": {},
   "source": [
    "# Analiza statystyk koszykarzy NBA z sezonu zasadniczego 2022/2023\n",
    "### Dane studenta:\n",
    "Jakub Binkowski\n",
    "### Opis danych:\n",
    "Dane pochodzą z poniższego źródła:<br>\n",
    "https://www.kaggle.com/datasets/vivovinco/20222023-nba-player-stats-regular <br>\n",
    "Dane ukazują poszczególne statystyki każdego zawodnika ligi NBA w sezonie zasadniczym 2022/2023. Pochodzą z oficjalnych statystyk meczowych, które są tworzone na podstawie obserwacji każdego spotkania (liczba punktów, zbiórek, skuteczność zaowdnika itd.). Tutaj zebrano średnie poszczególnych statystyk w skali całego sezonu (1230 meczów). Są one doskonałym źródłem to wyciągnięcia przeróżnych wniosków na temat konkretnych zawodników, drużyn, jak i całej ligi.<br>\n",
    "##### Co oznaczają poszczególne kolumny?\n",
    "Rk : Numer <br>\n",
    "Player : Nazwisko<br>\n",
    "Pos : pozycja<br>\n",
    "Age : wiek<br>\n",
    "Tm : drużyna<br>\n",
    "G : liczba meczów<br>\n",
    "GS : liczba meczów w podstawowym składzie<br>\n",
    "MP : średnia liczba minut zagranych w meczu<br>\n",
    "FG : średnia liczba trafionych rzutów z gry<br>\n",
    "FGA : średnia liczba oddanych rzutów<br>\n",
    "FG% : skuteczność rzutów z gry<br>\n",
    "3P : średnia liczba trafionych rzutów za 3 punkty<br>\n",
    "3PA : średnia liczba oddanych rzutów za 3 punkty<br>\n",
    "3P% : skuteczność rzutów za 3 punkty<br>\n",
    "2P : średnia liczba trafionych rzutów za 2 punkty<br>\n",
    "2PA : średnia liczba oddanych rzutów za 2 punkty<br>\n",
    "2P% : skuteczność rzutów za 2 punkty<br>\n",
    "eFG% : obliczane ze wzoru (2PA+ 1.5*3PA) / FGA<br>\n",
    "FT : średnia liczba trafionych rzutów osobistych<br>\n",
    "FTA : średnia liczba oddanych rzutów osobistych<br>\n",
    "FT% : skuteczność rzutów osobistych<br>\n",
    "ORB : średnia liczba zbiórek w ataku<br>\n",
    "DRB : średnia liczba zbiórek w obronie<br>\n",
    "TRB : średnia liczba zbiórek<br>\n",
    "AST : średnia liczba asyst<br>\n",
    "STL : średnia liczba przechwytów<br>\n",
    "BLK : średnia liczba bloków<br>\n",
    "TOV : średnia liczba strat<br>\n",
    "PF : średnia liczba fauli<br>\n",
    "PTS : średnia liczba zdobytych punktów<br>\n",
    "\n",
    "Wczytajmy teraz dane z pliku xlsx (do niego zaimportowałem dane z pobranego pliku csv)"
   ]
  },
  {
   "cell_type": "code",
   "execution_count": 9,
   "metadata": {
    "vscode": {
     "languageId": "r"
    }
   },
   "outputs": [
    {
     "name": "stderr",
     "output_type": "stream",
     "text": [
      "Warning message:\n",
      "\"pakiet 'readxl' jest w użyciu i nie zostanie zainstalowany\"\n"
     ]
    }
   ],
   "source": [
    "install.packages(\"readxl\")\n",
    "library(\"readxl\")\n",
    "data <- read_excel(\"dane.xlsx\")\n"
   ]
  },
  {
   "attachments": {},
   "cell_type": "markdown",
   "metadata": {},
   "source": [
    "Wyświetlmy zebrane dane"
   ]
  },
  {
   "cell_type": "code",
   "execution_count": 10,
   "metadata": {
    "vscode": {
     "languageId": "r"
    }
   },
   "outputs": [
    {
     "data": {
      "text/html": [
       "<table class=\"dataframe\">\n",
       "<caption>A tibble: 6 × 30</caption>\n",
       "<thead>\n",
       "\t<tr><th scope=col>Rk</th><th scope=col>Player</th><th scope=col>Pos</th><th scope=col>Age</th><th scope=col>Tm</th><th scope=col>G</th><th scope=col>GS</th><th scope=col>MP</th><th scope=col>FG</th><th scope=col>FGA</th><th scope=col>⋯</th><th scope=col>FT%</th><th scope=col>ORB</th><th scope=col>DRB</th><th scope=col>TRB</th><th scope=col>AST</th><th scope=col>STL</th><th scope=col>BLK</th><th scope=col>TOV</th><th scope=col>PF</th><th scope=col>PTS</th></tr>\n",
       "\t<tr><th scope=col>&lt;dbl&gt;</th><th scope=col>&lt;chr&gt;</th><th scope=col>&lt;chr&gt;</th><th scope=col>&lt;dbl&gt;</th><th scope=col>&lt;chr&gt;</th><th scope=col>&lt;dbl&gt;</th><th scope=col>&lt;dbl&gt;</th><th scope=col>&lt;chr&gt;</th><th scope=col>&lt;chr&gt;</th><th scope=col>&lt;chr&gt;</th><th scope=col>⋯</th><th scope=col>&lt;chr&gt;</th><th scope=col>&lt;chr&gt;</th><th scope=col>&lt;chr&gt;</th><th scope=col>&lt;chr&gt;</th><th scope=col>&lt;chr&gt;</th><th scope=col>&lt;chr&gt;</th><th scope=col>&lt;chr&gt;</th><th scope=col>&lt;chr&gt;</th><th scope=col>&lt;chr&gt;</th><th scope=col>&lt;chr&gt;</th></tr>\n",
       "</thead>\n",
       "<tbody>\n",
       "\t<tr><td>1</td><td>Precious Achiuwa        </td><td>C </td><td>23</td><td>TOR</td><td>55</td><td>12</td><td>20.7</td><td>3.6</td><td>7.3 </td><td>⋯</td><td>0.702</td><td>1.8</td><td>4.1</td><td>6   </td><td>0.9</td><td>0.6</td><td>0.5</td><td>1.1</td><td>1.9</td><td>9.2 </td></tr>\n",
       "\t<tr><td>2</td><td>Steven Adams            </td><td>C </td><td>29</td><td>MEM</td><td>42</td><td>42</td><td>27  </td><td>3.7</td><td>6.3 </td><td>⋯</td><td>0.364</td><td>5.1</td><td>6.5</td><td>11.5</td><td>2.3</td><td>0.9</td><td>1.1</td><td>1.9</td><td>2.3</td><td>8.6 </td></tr>\n",
       "\t<tr><td>3</td><td>Bam Adebayo             </td><td>C </td><td>25</td><td>MIA</td><td>75</td><td>75</td><td>34.6</td><td>8  </td><td>14.9</td><td>⋯</td><td>0.806</td><td>2.5</td><td>6.7</td><td>9.2 </td><td>3.2</td><td>1.2</td><td>0.8</td><td>2.5</td><td>2.8</td><td>20.4</td></tr>\n",
       "\t<tr><td>4</td><td>Ochai Agbaji            </td><td>SG</td><td>22</td><td>UTA</td><td>59</td><td>22</td><td>20.5</td><td>2.8</td><td>6.5 </td><td>⋯</td><td>0.812</td><td>0.7</td><td>1.3</td><td>2.1 </td><td>1.1</td><td>0.3</td><td>0.3</td><td>0.7</td><td>1.7</td><td>7.9 </td></tr>\n",
       "\t<tr><td>5</td><td>Santi Aldama            </td><td>PF</td><td>22</td><td>MEM</td><td>77</td><td>20</td><td>21.8</td><td>3.2</td><td>6.8 </td><td>⋯</td><td>0.75 </td><td>1.1</td><td>3.7</td><td>4.8 </td><td>1.3</td><td>0.6</td><td>0.6</td><td>0.8</td><td>1.9</td><td>9   </td></tr>\n",
       "\t<tr><td>6</td><td>Nickeil Alexander-Walker</td><td>SG</td><td>24</td><td>TOT</td><td>59</td><td> 3</td><td>15  </td><td>2.2</td><td>5   </td><td>⋯</td><td>0.667</td><td>0.3</td><td>1.5</td><td>1.7 </td><td>1.8</td><td>0.5</td><td>0.4</td><td>0.9</td><td>1.5</td><td>6.2 </td></tr>\n",
       "</tbody>\n",
       "</table>\n"
      ],
      "text/latex": [
       "A tibble: 6 × 30\n",
       "\\begin{tabular}{lllllllllllllllllllll}\n",
       " Rk & Player & Pos & Age & Tm & G & GS & MP & FG & FGA & ⋯ & FT\\% & ORB & DRB & TRB & AST & STL & BLK & TOV & PF & PTS\\\\\n",
       " <dbl> & <chr> & <chr> & <dbl> & <chr> & <dbl> & <dbl> & <chr> & <chr> & <chr> & ⋯ & <chr> & <chr> & <chr> & <chr> & <chr> & <chr> & <chr> & <chr> & <chr> & <chr>\\\\\n",
       "\\hline\n",
       "\t 1 & Precious Achiuwa         & C  & 23 & TOR & 55 & 12 & 20.7 & 3.6 & 7.3  & ⋯ & 0.702 & 1.8 & 4.1 & 6    & 0.9 & 0.6 & 0.5 & 1.1 & 1.9 & 9.2 \\\\\n",
       "\t 2 & Steven Adams             & C  & 29 & MEM & 42 & 42 & 27   & 3.7 & 6.3  & ⋯ & 0.364 & 5.1 & 6.5 & 11.5 & 2.3 & 0.9 & 1.1 & 1.9 & 2.3 & 8.6 \\\\\n",
       "\t 3 & Bam Adebayo              & C  & 25 & MIA & 75 & 75 & 34.6 & 8   & 14.9 & ⋯ & 0.806 & 2.5 & 6.7 & 9.2  & 3.2 & 1.2 & 0.8 & 2.5 & 2.8 & 20.4\\\\\n",
       "\t 4 & Ochai Agbaji             & SG & 22 & UTA & 59 & 22 & 20.5 & 2.8 & 6.5  & ⋯ & 0.812 & 0.7 & 1.3 & 2.1  & 1.1 & 0.3 & 0.3 & 0.7 & 1.7 & 7.9 \\\\\n",
       "\t 5 & Santi Aldama             & PF & 22 & MEM & 77 & 20 & 21.8 & 3.2 & 6.8  & ⋯ & 0.75  & 1.1 & 3.7 & 4.8  & 1.3 & 0.6 & 0.6 & 0.8 & 1.9 & 9   \\\\\n",
       "\t 6 & Nickeil Alexander-Walker & SG & 24 & TOT & 59 &  3 & 15   & 2.2 & 5    & ⋯ & 0.667 & 0.3 & 1.5 & 1.7  & 1.8 & 0.5 & 0.4 & 0.9 & 1.5 & 6.2 \\\\\n",
       "\\end{tabular}\n"
      ],
      "text/markdown": [
       "\n",
       "A tibble: 6 × 30\n",
       "\n",
       "| Rk &lt;dbl&gt; | Player &lt;chr&gt; | Pos &lt;chr&gt; | Age &lt;dbl&gt; | Tm &lt;chr&gt; | G &lt;dbl&gt; | GS &lt;dbl&gt; | MP &lt;chr&gt; | FG &lt;chr&gt; | FGA &lt;chr&gt; | ⋯ ⋯ | FT% &lt;chr&gt; | ORB &lt;chr&gt; | DRB &lt;chr&gt; | TRB &lt;chr&gt; | AST &lt;chr&gt; | STL &lt;chr&gt; | BLK &lt;chr&gt; | TOV &lt;chr&gt; | PF &lt;chr&gt; | PTS &lt;chr&gt; |\n",
       "|---|---|---|---|---|---|---|---|---|---|---|---|---|---|---|---|---|---|---|---|---|\n",
       "| 1 | Precious Achiuwa         | C  | 23 | TOR | 55 | 12 | 20.7 | 3.6 | 7.3  | ⋯ | 0.702 | 1.8 | 4.1 | 6    | 0.9 | 0.6 | 0.5 | 1.1 | 1.9 | 9.2  |\n",
       "| 2 | Steven Adams             | C  | 29 | MEM | 42 | 42 | 27   | 3.7 | 6.3  | ⋯ | 0.364 | 5.1 | 6.5 | 11.5 | 2.3 | 0.9 | 1.1 | 1.9 | 2.3 | 8.6  |\n",
       "| 3 | Bam Adebayo              | C  | 25 | MIA | 75 | 75 | 34.6 | 8   | 14.9 | ⋯ | 0.806 | 2.5 | 6.7 | 9.2  | 3.2 | 1.2 | 0.8 | 2.5 | 2.8 | 20.4 |\n",
       "| 4 | Ochai Agbaji             | SG | 22 | UTA | 59 | 22 | 20.5 | 2.8 | 6.5  | ⋯ | 0.812 | 0.7 | 1.3 | 2.1  | 1.1 | 0.3 | 0.3 | 0.7 | 1.7 | 7.9  |\n",
       "| 5 | Santi Aldama             | PF | 22 | MEM | 77 | 20 | 21.8 | 3.2 | 6.8  | ⋯ | 0.75  | 1.1 | 3.7 | 4.8  | 1.3 | 0.6 | 0.6 | 0.8 | 1.9 | 9    |\n",
       "| 6 | Nickeil Alexander-Walker | SG | 24 | TOT | 59 |  3 | 15   | 2.2 | 5    | ⋯ | 0.667 | 0.3 | 1.5 | 1.7  | 1.8 | 0.5 | 0.4 | 0.9 | 1.5 | 6.2  |\n",
       "\n"
      ],
      "text/plain": [
       "  Rk Player                   Pos Age Tm  G  GS MP   FG  FGA  ⋯ FT%   ORB DRB\n",
       "1 1  Precious Achiuwa         C   23  TOR 55 12 20.7 3.6 7.3  ⋯ 0.702 1.8 4.1\n",
       "2 2  Steven Adams             C   29  MEM 42 42 27   3.7 6.3  ⋯ 0.364 5.1 6.5\n",
       "3 3  Bam Adebayo              C   25  MIA 75 75 34.6 8   14.9 ⋯ 0.806 2.5 6.7\n",
       "4 4  Ochai Agbaji             SG  22  UTA 59 22 20.5 2.8 6.5  ⋯ 0.812 0.7 1.3\n",
       "5 5  Santi Aldama             PF  22  MEM 77 20 21.8 3.2 6.8  ⋯ 0.75  1.1 3.7\n",
       "6 6  Nickeil Alexander-Walker SG  24  TOT 59  3 15   2.2 5    ⋯ 0.667 0.3 1.5\n",
       "  TRB  AST STL BLK TOV PF  PTS \n",
       "1 6    0.9 0.6 0.5 1.1 1.9 9.2 \n",
       "2 11.5 2.3 0.9 1.1 1.9 2.3 8.6 \n",
       "3 9.2  3.2 1.2 0.8 2.5 2.8 20.4\n",
       "4 2.1  1.1 0.3 0.3 0.7 1.7 7.9 \n",
       "5 4.8  1.3 0.6 0.6 0.8 1.9 9   \n",
       "6 1.7  1.8 0.5 0.4 0.9 1.5 6.2 "
      ]
     },
     "metadata": {},
     "output_type": "display_data"
    }
   ],
   "source": [
    "head(data)\n"
   ]
  },
  {
   "attachments": {},
   "cell_type": "markdown",
   "metadata": {},
   "source": [
    "Teraz zamieńmy format potrzebnych do analizy danych na numeryczne i pomnożmy skuteczność rzutów z gry razy 100 aby wynik wyświetlić w procentach"
   ]
  },
  {
   "cell_type": "code",
   "execution_count": 11,
   "metadata": {
    "vscode": {
     "languageId": "r"
    }
   },
   "outputs": [],
   "source": [
    "data$PTS <- as.numeric(data$PTS)\n",
    "data$\"FG%\" <- as.numeric(data$\"FG%\")\n",
    "data$'FG%' <- data$'FG%'*100\n"
   ]
  },
  {
   "attachments": {},
   "cell_type": "markdown",
   "metadata": {},
   "source": [
    "Analiza wieku zawodników<br>\n",
    "Najpierw szereg rozdzielczy, a potem histogram"
   ]
  },
  {
   "cell_type": "code",
   "execution_count": 12,
   "metadata": {
    "vscode": {
     "languageId": "r"
    }
   },
   "outputs": [
    {
     "data": {
      "text/plain": [
       "przedziały\n",
       "(18,19] (19,20] (20,21] (21,22] (22,23] (23,24] (24,25] (25,26] (26,27] (27,28] \n",
       "     14      30      49      55      84      63      66      51      50      32 \n",
       "(28,29] (29,30] (30,31] (31,32] (32,33] (33,34] (34,35] (35,36] (36,37] (37,38] \n",
       "     38      33      20      25      17      25       9      12       3       1 \n",
       "(38,39] (39,40] (40,41] (41,42] \n",
       "      1       0       0       1 "
      ]
     },
     "metadata": {},
     "output_type": "display_data"
    },
    {
     "data": {
      "image/png": "[encoded data removed]",
      "text/plain": [
       "Plot with title \"Wiek koszykarzy z NBA\""
      ]
     },
     "metadata": {
      "image/png": {
       "height": 420,
       "width": 420
      }
     },
     "output_type": "display_data"
    }
   ],
   "source": [
    "x <- c(18:42)\n",
    "przedziały <- cut(data$Age,breaks=x)\n",
    "table(przedziały)\n",
    "hist(data$Age,breaks=x,main=\"Wiek koszykarzy z NBA\",xlab=\"wiek\",ylab=\"liczba zawodników\",col=\"blue\")\n",
    "# summary(data$Age)\n",
    "# boxplot(data$Age)\n",
    "\n",
    "\n"
   ]
  },
  {
   "attachments": {},
   "cell_type": "markdown",
   "metadata": {},
   "source": [
    "Analiza wieku"
   ]
  },
  {
   "cell_type": "code",
   "execution_count": 13,
   "metadata": {
    "vscode": {
     "languageId": "r"
    }
   },
   "outputs": [
    {
     "data": {
      "text/plain": [
       "   Min. 1st Qu.  Median    Mean 3rd Qu.    Max. \n",
       "  19.00   23.00   25.00   26.03   29.00   42.00 "
      ]
     },
     "metadata": {},
     "output_type": "display_data"
    },
    {
     "data": {
      "text/html": [
       "'Wariancja 18.7117616136866'"
      ],
      "text/latex": [
       "'Wariancja 18.7117616136866'"
      ],
      "text/markdown": [
       "'Wariancja 18.7117616136866'"
      ],
      "text/plain": [
       "[1] \"Wariancja 18.7117616136866\""
      ]
     },
     "metadata": {},
     "output_type": "display_data"
    },
    {
     "data": {
      "text/html": [
       "'Odchylenie 4.32570937693306'"
      ],
      "text/latex": [
       "'Odchylenie 4.32570937693306'"
      ],
      "text/markdown": [
       "'Odchylenie 4.32570937693306'"
      ],
      "text/plain": [
       "[1] \"Odchylenie 4.32570937693306\""
      ]
     },
     "metadata": {},
     "output_type": "display_data"
    },
    {
     "data": {
      "text/html": [
       "'Skośność 0.651974202884257'"
      ],
      "text/latex": [
       "'Skośność 0.651974202884257'"
      ],
      "text/markdown": [
       "'Skośność 0.651974202884257'"
      ],
      "text/plain": [
       "[1] \"Skośność 0.651974202884257\""
      ]
     },
     "metadata": {},
     "output_type": "display_data"
    },
    {
     "data": {
      "text/html": [
       "'Kurtoza 2.77385191468206'"
      ],
      "text/latex": [
       "'Kurtoza 2.77385191468206'"
      ],
      "text/markdown": [
       "'Kurtoza 2.77385191468206'"
      ],
      "text/plain": [
       "[1] \"Kurtoza 2.77385191468206\""
      ]
     },
     "metadata": {},
     "output_type": "display_data"
    }
   ],
   "source": [
    "summary(data$Age)\n",
    "\n",
    "variance <- function(dane){\n",
    "    avg <- mean(dane)\n",
    "    diff <- dane-avg\n",
    "    diff <- diff^2\n",
    "    x <- sum(diff)\n",
    "    x <- x/(length(dane)-1)\n",
    "    return(x) \n",
    "   \n",
    "}\n",
    "\n",
    "stdev <- function(dane){\n",
    "    return(sqrt(variance(dane)))\n",
    "}\n",
    "\n",
    "skewness <- function(dane){\n",
    "    avg <- mean(dane)\n",
    "    diff <- dane-avg\n",
    "    diff <- diff^3\n",
    "    x <- sum(diff)\n",
    "    x <- x/length(dane)\n",
    "    s <- sd(dane)^3\n",
    "    x <- x/s\n",
    "    return(x)\n",
    "    \n",
    "}\n",
    "\n",
    "kurtosis <- function(dane){\n",
    "    avg <- mean(dane)\n",
    "    diff <- dane-avg\n",
    "    diff <- diff^4\n",
    "    x <- sum(diff)\n",
    "    x <- x/length(dane)\n",
    "    s <- sd(dane)^4\n",
    "    x <- x/s\n",
    "    return(x)\n",
    "}\n",
    "\n",
    "paste(\"Wariancja\",variance(data$Age))\n",
    "paste(\"Odchylenie\",stdev(data$Age))\n",
    "paste(\"Skośność\",skewness(data$Age))\n",
    "paste(\"Kurtoza\",kurtosis(data$Age))"
   ]
  },
  {
   "attachments": {},
   "cell_type": "markdown",
   "metadata": {},
   "source": [
    "Obserwacje i wnioski:<br>\n",
    "Z obserwacji histogramu wynika, że najwięcej zawodników w lidze jest w przedziale wiekowym 22-27 lat, a pik to 23 lata. Jest to logiczne, gdyż do około 25 roku życia zawodnicy dołączają do ligi (co roku każdy klub pozyskuje kilku takich graczy, tzw. rookies). Później wielu z nich po paru latach odchodzi, gdyż okazali się zbyt słabi, niektórzy muszą odejść z powodu kontuzji. Z kolei po ukończeniu 30 roku życia wielu koszykarzy decyduje się zakończyć karierę, poszukać możliwości zarobku w innych ligach, gdzie bedą mieli status gwiazdy (jak np. Chiny), czy też powrócić do rodzinnych krajów (koszykarze z Europy). Stąd liczba koszykarzy z wiekiem sukcesywnie maleje. Jednak jest to spadek znacznie mniej gwałtowny niż przyrost w grupie wiekowej 20-25 lat. Koszykarze pojawiają się z lidze na przestrzeni paru lat, odchodzą z niej na przestrzeni aż około 15 lat.\n",
    "Średnia i mediana są zbliżone. Z kolei wariancja i odchylenie standardowe mówi nam, jak mocny jest rozrzut danych. Aż połowa zawodników jest z przedziału wiekowego 23-29 lat, kiedy to wielu koszykarzy zaczyna osiągać swoją szczytową formę.\n",
    "Jak widać po wartości skośności (powyżej zera), rozkład jest prawostronny. Z kolei kurtoza mniejsza niż 3 mówi nam, że pik histogramu jest niższy niż rozkładu normalnego. Powyższe pomiary dokonano dla populacji, gdyż mamy dostęp do danych wszystkic zawodników ligi."
   ]
  },
  {
   "attachments": {},
   "cell_type": "markdown",
   "metadata": {},
   "source": [
    "Analiza skuteczności rzutów z gry"
   ]
  },
  {
   "cell_type": "code",
   "execution_count": 14,
   "metadata": {
    "vscode": {
     "languageId": "r"
    }
   },
   "outputs": [
    {
     "data": {
      "text/plain": [
       "przedziały\n",
       "   (0,5]   (5,10]  (10,15]  (15,20]  (20,25]  (25,30]  (30,35]  (35,40] \n",
       "       0        1        1        6        9        5       23       84 \n",
       " (40,45]  (45,50]  (50,55]  (55,60]  (60,65]  (65,70]  (70,75]  (75,80] \n",
       "     191      177       68       43       30       13       10        3 \n",
       " (80,85]  (85,90]  (90,95] (95,100] \n",
       "       1        1        0        4 "
      ]
     },
     "metadata": {},
     "output_type": "display_data"
    },
    {
     "data": {
      "image/png": "[encoded data removed]",
      "text/plain": [
       "Plot with title \"Skuteczność rzutów z gry koszykarzy z NBA\""
      ]
     },
     "metadata": {
      "image/png": {
       "height": 420,
       "width": 420
      }
     },
     "output_type": "display_data"
    }
   ],
   "source": [
    "x <- seq(0,100,5)\n",
    "przedziały <- cut(data$\"FG%\",breaks=x)\n",
    "table(przedziały)\n",
    "hist(data$\"FG%\",breaks=x,main=\"Skuteczność rzutów z gry koszykarzy z NBA\",xlab=\"skuteczność\",ylab=\"liczba zawodników\",col=\"blue\")\n"
   ]
  },
  {
   "cell_type": "code",
   "execution_count": 15,
   "metadata": {
    "vscode": {
     "languageId": "r"
    }
   },
   "outputs": [
    {
     "data": {
      "text/plain": [
       "   Min. 1st Qu.  Median    Mean 3rd Qu.    Max. \n",
       "   0.00   41.50   45.40   46.22   50.50  100.00 "
      ]
     },
     "metadata": {},
     "output_type": "display_data"
    },
    {
     "data": {
      "text/html": [
       "'Wariancja 136.14797185693'"
      ],
      "text/latex": [
       "'Wariancja 136.14797185693'"
      ],
      "text/markdown": [
       "'Wariancja 136.14797185693'"
      ],
      "text/plain": [
       "[1] \"Wariancja 136.14797185693\""
      ]
     },
     "metadata": {},
     "output_type": "display_data"
    },
    {
     "data": {
      "text/html": [
       "'Odchylenie 11.6682463059763'"
      ],
      "text/latex": [
       "'Odchylenie 11.6682463059763'"
      ],
      "text/markdown": [
       "'Odchylenie 11.6682463059763'"
      ],
      "text/plain": [
       "[1] \"Odchylenie 11.6682463059763\""
      ]
     },
     "metadata": {},
     "output_type": "display_data"
    },
    {
     "data": {
      "text/html": [
       "'Skośność 0.0114149592722601'"
      ],
      "text/latex": [
       "'Skośność 0.0114149592722601'"
      ],
      "text/markdown": [
       "'Skośność 0.0114149592722601'"
      ],
      "text/plain": [
       "[1] \"Skośność 0.0114149592722601\""
      ]
     },
     "metadata": {},
     "output_type": "display_data"
    },
    {
     "data": {
      "text/html": [
       "'Kurtoza 8.2977250904124'"
      ],
      "text/latex": [
       "'Kurtoza 8.2977250904124'"
      ],
      "text/markdown": [
       "'Kurtoza 8.2977250904124'"
      ],
      "text/plain": [
       "[1] \"Kurtoza 8.2977250904124\""
      ]
     },
     "metadata": {},
     "output_type": "display_data"
    }
   ],
   "source": [
    "summary(data$\"FG%\")\n",
    "paste(\"Wariancja\",variance(data$\"FG%\"))\n",
    "paste(\"Odchylenie\",stdev(data$\"FG%\"))\n",
    "paste(\"Skośność\",skewness(data$\"FG%\"))\n",
    "paste(\"Kurtoza\",kurtosis(data$\"FG%\"))"
   ]
  },
  {
   "attachments": {},
   "cell_type": "markdown",
   "metadata": {},
   "source": [
    "Jak widzimy na powyższym histogramie, rozkład skuteczności rzutów z gry jest zbliżony do rozkładu normalnego. Średnia i mediana są bardzo zbliżone do siebie, rozkład jest praktycznie symetryczny o czym świadczy skośność bliska zeru. Kurtoza wynosząca ponad 8 sugeruje nam, że pik histogramu jest wyższy niż w rozkładzie normalnym. Aż 50% zawodników notuje skuteczność z zakresu 41-50%, co jest naprawdę bliskie wartości średniej i mediany. Odchylenie standardowe to niecałe 12%, czyli większość zawodników notuje skuteczność różniącą się o maksymalnie tyle od średniej. Poza tym mamy oczywiście wyniki znacznie przekraczające wartość średniej. Co ciekawe, są wśród nich nie tylko największe gwiazdy ligi, ale też zawodnicy, którzy grają na pozycjach podkoszowych w mniej znacznych rolach. Jest tak dlatego, że rzuty z okolicy kosza, czyli małej odlgłości są łatwiejsze do trafienia, niż te z większego dystansu. Niestety w przypadku tych danych mamy również do czynienia z tzw. outliers, czyli wynikami, które trochę fałszują wyniki statystyk. Są to zawodnicy, którzy na przykład zagrali tylko w jednym meczu w sezonie przez kilka minut i oddali jeden celny rzut do kosza. Ich średnia skuteczność w sezonie wynosi 100%, lecz nie jest to wynik, który można jakkolwiek porównywać z innymi zawodnikami. Podobnie można znaleźć graczy, którzy notują średnią skuteczność 0%. Można ich zauważyć na histogramie. Z tego też powodu aby liczyć się w walce o nagrody indywidualne w NBA, należy rozegrać co najminej 58 (spośród 82) meczów. Wtedy wyniki można uznać za miarodajne"
   ]
  },
  {
   "attachments": {},
   "cell_type": "markdown",
   "metadata": {},
   "source": [
    "### Test statystyczny\n",
    "Aby przeprowadzić test wybierzemy losowo 100 zawodników z pozyższej bazy danych. Zauważyliśmy już wcześniej że rozkład skteczności rzutów z gry jest zbliżony do normalnego. Skoro liczba zawodników będzie większa niż 30 wykonany test Z. <br>\n",
    "Hipoteza zerowa: średnia skuteczność rzutów z gry w lidze jest równa 50%<br>\n",
    "Hipoteza alternatywna: średnia skuteczność rzutów z gry w lidze jest mniejsza niż 50%<br>\n",
    "Wykonam test jednostronny"
   ]
  },
  {
   "cell_type": "code",
   "execution_count": 21,
   "metadata": {
    "vscode": {
     "languageId": "r"
    }
   },
   "outputs": [
    {
     "data": {
      "text/html": [
       "<span style=white-space:pre-wrap>'wartość krytyczna:  -1.64485362695147'</span>"
      ],
      "text/latex": [
       "'wartość krytyczna:  -1.64485362695147'"
      ],
      "text/markdown": [
       "<span style=white-space:pre-wrap>'wartość krytyczna:  -1.64485362695147'</span>"
      ],
      "text/plain": [
       "[1] \"wartość krytyczna:  -1.64485362695147\""
      ]
     },
     "metadata": {},
     "output_type": "display_data"
    },
    {
     "data": {
      "text/html": [
       "<span style=white-space:pre-wrap>'wartość statystyki:  -1.75647142212519'</span>"
      ],
      "text/latex": [
       "'wartość statystyki:  -1.75647142212519'"
      ],
      "text/markdown": [
       "<span style=white-space:pre-wrap>'wartość statystyki:  -1.75647142212519'</span>"
      ],
      "text/plain": [
       "[1] \"wartość statystyki:  -1.75647142212519\""
      ]
     },
     "metadata": {},
     "output_type": "display_data"
    }
   ],
   "source": [
    "# przyjęty poziom istotności\n",
    "alpha <- 0.05\n",
    "# wartość krytyczna\n",
    "krytyczna <- qnorm(alpha)\n",
    "paste(\"wartość krytyczna: \", krytyczna)\n",
    "# losujemy 100 zawodników\n",
    "losowi <- data[sample(nrow(data), 100), ]\n",
    "statystyka <- (mean(losowi$\"FG%\")-50)/(sd(losowi$\"FG%\")/sqrt(100))\n",
    "paste(\"wartość statystyki: \",statystyka)"
   ]
  },
  {
   "attachments": {},
   "cell_type": "markdown",
   "metadata": {},
   "source": [
    "Dla wylosowanych przeze mnie danych wartość statystyki wyniosła -1.75, kiedy wartość krytyczna to -1.64 przy poziomie istotności 5% dla testu jednostronnego (w tym przypadku lewostronny). Jako, że wartośc statystyki jest mniejsza niż wartość krytyczna, a jest to test lewostronny, należy odrzucić hipotezę zerową i przyjąć alternatywną. Analizując dane dla populacji można dojść do wniosku, że nie popełniono tutaj błędu (odrzucono błędną hipotezę, co jest poprawne).<br>\n",
    "Wniosek: średnia skuteczność rzutów z gry w NBA wynosi mniej niż 50%"
   ]
  },
  {
   "attachments": {},
   "cell_type": "markdown",
   "metadata": {},
   "source": [
    "### Podsumowanie\n",
    "Uważam, że powyższe dane są bardzo interesujące i można wiele z nich odczytać. Nie bez powodu wielu trenerów też tak uważa. Obecnie w erze big data również w sporcie widzimy, że prowadzone są przeróżne statystyki. Dla osób zajmujących się wyszukiwaniem potencjalnych nowych zawodników często służą one pomocą w wyselekcjonowaniu najciekawszych kandydatów. Z kolei dla kibiców i dziennikarzy stanowią pomoc w lepszym zrozumieniu meczów. W przyszłości danych do analizy będzie prawdopodobnie tylko więcej ze względu na rozwój technologii. <br>\n",
    "Jeśli chodzi o propozycje kolejnych badań, w przyszłości można by zbadać skuteczność bardziej szczegółowo, np. analizując osobno rzuty za 2 i 3 punkty. Dobrym pomysłem wydaje się również zbadanie korelacji między chociażby średnią liczbą minut, a zdobytych punktów."
   ]
  }
 ],
 "metadata": {
  "kernelspec": {
   "display_name": "R",
   "language": "R",
   "name": "ir"
  },
  "language_info": {
   "codemirror_mode": "r",
   "file_extension": ".r",
   "mimetype": "text/x-r-source",
   "name": "R",
   "pygments_lexer": "r",
   "version": "4.2.2"
  },
  "orig_nbformat": 4
 },
 "nbformat": 4,
 "nbformat_minor": 2
}
